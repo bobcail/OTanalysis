{
 "cells": [
  {
   "cell_type": "code",
   "execution_count": null,
   "id": "2dc2a9a0-8848-4bc6-a5f5-129c40767943",
   "metadata": {},
   "outputs": [],
   "source": [
    "import scipy.io\n",
    "import scipy.signal\n",
    "from scipy.signal import savgol_filter\n",
    "from scipy.optimize import curve_fit, bisect\n",
    "from scipy.stats import norm\n",
    "import numpy as np\n",
    "import pandas as pd\n",
    "import os\n",
    "import glob\n",
    "import matplotlib.pyplot as plt\n",
    "import matplotlib.gridspec as gridspec\n",
    "from nptdms import TdmsFile\n",
    "import csv\n",
    "from PythonOTtools import callTDMS, flip_molecule, TDMS_reader, gauss, bimodal, fwd_exponential, \\\n",
    "    rev_exponential, covariance_pds, bimodal_fit, find_prelimEvents, timeFilterEvents, plot_prelimEvents_withfilter, \\\n",
    "    cov_mask_fb, callTDMS_fb, find_breakpoints_isoFB, \\\n",
    "    save_events_isoFB, bell_equation"
   ]
  },
  {
   "cell_type": "code",
   "execution_count": null,
   "id": "74c931ae-6e8e-47e8-abf5-44c871f6bb55",
   "metadata": {},
   "outputs": [],
   "source": [
    "file_name = 'point to file name here'\n",
    "\n",
    "#1 for flipped (negative-displacement) molecule, 0 for positive molecule\n",
    "#Our FB system only really works with positive molecules, so this is mostly not necessary\n",
    "flipped_molecule = 0\n",
    "#call the tdms file into a numpy array\n",
    "trace = callTDMS_fb(file_name)\n",
    "#flip the molecule\n",
    "if flipped_molecule:\n",
    "    trace = flip_molecule(trace)\n",
    "#plot and visualize the trace\n",
    "plt.close('all')\n",
    "plt.figure(figsize=(10, 3))\n",
    "plt.plot(trace[12], trace[7], label = 'transducer bead pos')\n",
    "plt.plot(trace[12], trace[8], label = 'motor bead pos')\n",
    "plt.legend(loc = 'upper right')\n",
    "plt.show()"
   ]
  },
  {
   "cell_type": "code",
   "execution_count": null,
   "id": "0733b214-400f-4f74-b1aa-8410171d905f",
   "metadata": {},
   "outputs": [],
   "source": [
    "#calculate the covariance and plot it\n",
    "covar_AB = covariance_pds(trace)\n",
    "cov_hist = np.histogram(covar_AB, bins = 2000)\n",
    "plt.plot(cov_hist[1][:-1:], cov_hist[0])\n",
    "plt.xlim(-10, 60)\n",
    "plt.show()\n",
    "plt.close('all')"
   ]
  },
  {
   "cell_type": "code",
   "execution_count": null,
   "id": "ffb59cac-dc08-4a64-8120-fa8a5edc5e69",
   "metadata": {},
   "outputs": [],
   "source": [
    "#fit to a bimodal to find peaks\n",
    "peaks = bimodal_fit(trace, covar_AB, a1 = 50000, m1=0, s1=2, a2 = 300000, m2=15, s2 = 8)"
   ]
  },
  {
   "cell_type": "code",
   "execution_count": null,
   "id": "c8d4d904-7068-40b2-858e-481329ce6672",
   "metadata": {},
   "outputs": [],
   "source": [
    "#find prelim events based on covariance threshold\n",
    "prelimEvents = find_prelimEvents(covar_AB, peaks[0], peaks[1])\n",
    "#filter out events shorter than 16 ms, or closer than 16 ms to nearest event\n",
    "timeFilteredEvents = timeFilterEvents(trace, prelimEvents)\n",
    "#plot time filtered events\n",
    "plot_prelimEvents_withfilter(trace, covar_AB, prelimEvents)"
   ]
  },
  {
   "cell_type": "code",
   "execution_count": null,
   "id": "a9924e28-f8b6-44f9-a8b1-f4a8d98bd671",
   "metadata": {},
   "outputs": [],
   "source": [
    "#save the events as a numpy array containing the bead positions\n",
    "#also, save a numpy array containing the force (calculated from displacement of motor bead) and the lifetime\n",
    "save_events_isoFB(trace, timeFilteredEvents, covar_AB)"
   ]
  },
  {
   "cell_type": "code",
   "execution_count": null,
   "id": "a867ee2e-2757-401b-97cb-011ef2a9e510",
   "metadata": {},
   "outputs": [],
   "source": [
    "#load event force_dur arrays\n",
    "Data_forcedur = pd.read_csv('/Users/bob/Library/CloudStorage/Box-Box/4M493IcHMM_isometricFB/20230905/M493I_durvsforce.txt').to_numpy(dtype=np.float32)\n",
    "#convert event lifetimes to detachment rates by inverting the values\n",
    "Data_forcedur_kdetach = 1/Data_forcedur[:,1]\n",
    "#regenerate the original array as force and detachment rate\n",
    "Data_forcedur_inv = np.column_stack((Data_forcedur[:,0], Data_forcedur_kdetach))"
   ]
  },
  {
   "cell_type": "code",
   "execution_count": null,
   "id": "890f5469-14bb-49b0-a6af-c4be7c8c2c09",
   "metadata": {},
   "outputs": [],
   "source": [
    "\n",
    "\n",
    "#Steps for filtering data to select for forces within dynamic range\n",
    "data = Data_forcedur_inv\n",
    "\n",
    "# Step 1: Filter data to exclude forces outside a desired range (e.g., 5 to 25)\n",
    "force_threshold_min = 0\n",
    "force_threshold_max = 10\n",
    "filtered_data = data[(data[:, 0] >= force_threshold_min) & (data[:, 0] <= force_threshold_max)]\n",
    "\n",
    "# Step 2: Define the bins for the force measurements (for example, using np.histogram_bin_edges)\n",
    "bins = np.linspace(force_threshold_min, force_threshold_max, 20)  # You can adjust the number of bins\n",
    "\n",
    "# Step 3: Bin the forces and link to corresponding lifetime measurements\n",
    "bin_indices = np.digitize(filtered_data[:, 0], bins)\n",
    "\n",
    "# Initialize lists to store averages for each bin\n",
    "Data_force_bin_averages = []\n",
    "Data_lifetime_bin_averages = []\n",
    "Data_force_std = []\n",
    "Data_lifetime_std = []\n",
    "\n",
    "# Step 4: Loop through each bin and calculate the average force and lifetime for data in that bin\n",
    "for i in range(1, len(bins)):\n",
    "    # Select the data in the current bin\n",
    "    in_bin = filtered_data[bin_indices == i]\n",
    "    \n",
    "    if len(in_bin) > 0:  # Only if there's data in this bin\n",
    "        # Calculate the average force and lifetime for this bin\n",
    "        avg_force = np.mean(in_bin[:, 0])\n",
    "        avg_lifetime = np.mean(in_bin[:, 1])\n",
    "        # Calculate standard deviations\n",
    "        std_force = np.std(in_bin[:, 0])\n",
    "        std_inv_lifetime = np.std(1 / in_bin[:, 1])\n",
    "        \n",
    "        # Store the averages\n",
    "        Data_force_bin_averages.append(avg_force)\n",
    "        Data_lifetime_bin_averages.append(avg_lifetime)\n",
    "        Data_force_std.append(std_force)\n",
    "        Data_lifetime_std.append(std_inv_lifetime)"
   ]
  },
  {
   "cell_type": "code",
   "execution_count": null,
   "id": "805523c0-f711-4445-a877-88bed8279437",
   "metadata": {},
   "outputs": [],
   "source": [
    "#sample plotting, data names and values must be changed!\n",
    "plt.errorbar(WT_force_bin_averages, WT_lifetime_bin_averages, \n",
    "             xerr=WT_force_std, yerr=WT_lifetime_std, fmt='o', color='blue',\n",
    "             ecolor='black', elinewidth=1.5, capsize=4, alpha=0.75)\n",
    "plt.errorbar(M493I_force_bin_averages, M493I_lifetime_bin_averages, \n",
    "             xerr=M493I_force_std, yerr=M493I_lifetime_std, fmt='o', color='mediumspringgreen',\n",
    "             ecolor='black', elinewidth=1.5, capsize=4, alpha = 0.75)\n",
    "plt.plot(BE_forces, bell_equation(BE_forces, WT_k0, WT_d), color='darkblue')\n",
    "plt.plot(BE_forces, bell_equation(BE_forces, M493I_k0, M493I_d), color='darkgreen')\n",
    "plt.fill_between(BE_forces, bell_equation(BE_forces, 52.43, 0.5), bell_equation(BE_forces, 41.01, 1.05), color='skyblue', alpha=0.25)\n",
    "plt.fill_between(BE_forces, bell_equation(BE_forces, 27.54, 0.27), bell_equation(BE_forces, 22.378, 0.5), color='mediumspringgreen', alpha=0.5)\n",
    "#plt.savefig('/Users/bob/Desktop/M493I figures/IsometricFBlogscalebinnedwCIanderror6.svg', format='svg')\n",
    "plt.show()"
   ]
  }
 ],
 "metadata": {
  "kernelspec": {
   "display_name": "Python 3 (ipykernel)",
   "language": "python",
   "name": "python3"
  },
  "language_info": {
   "codemirror_mode": {
    "name": "ipython",
    "version": 3
   },
   "file_extension": ".py",
   "mimetype": "text/x-python",
   "name": "python",
   "nbconvert_exporter": "python",
   "pygments_lexer": "ipython3",
   "version": "3.8.19"
  }
 },
 "nbformat": 4,
 "nbformat_minor": 5
}
